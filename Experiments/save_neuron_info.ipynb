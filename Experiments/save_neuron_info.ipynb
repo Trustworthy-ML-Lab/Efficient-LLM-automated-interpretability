{
 "cells": [
  {
   "cell_type": "code",
   "execution_count": null,
   "id": "981b0775-6266-4141-ba3c-8c204e80854c",
   "metadata": {},
   "outputs": [],
   "source": [
    "import json\n",
    "import urllib.request\n",
    "import pandas as pd\n",
    "\n",
    "from tqdm import tqdm\n",
    "def load_az_json(url):\n",
    "    with urllib.request.urlopen(url) as f:\n",
    "        neuron_record = f.read()\n",
    "\n",
    "    return json.loads(neuron_record)\n",
    "\n",
    "def load_neuron(layer_index, neuron_index):\n",
    "    url = f\"https://openaipublic.blob.core.windows.net/neuron-explainer/data/explanations/{layer_index}/{neuron_index}.jsonl\"\n",
    "\n",
    "    return load_az_json(url)\n"
   ]
  },
  {
   "cell_type": "code",
   "execution_count": null,
   "id": "0980c1e5-3a29-4bce-9652-955721095b03",
   "metadata": {},
   "outputs": [],
   "source": [
    "from urllib.error import HTTPError\n",
    "\n",
    "results = {'layer':[], 'neuron':[], 'score':[], 'explanation':[]}\n",
    "\n",
    "for layer in range(48):\n",
    "    for neuron in tqdm(range(6400)):#6400):\n",
    "        try:\n",
    "            res = load_neuron(layer, neuron)\n",
    "        except(HTTPError):\n",
    "            continue\n",
    "        explanation = res[\"scored_explanations\"][0][\"explanation\"]\n",
    "        score = res[\"scored_explanations\"][0][\"scored_simulation\"][\"ev_correlation_score\"]\n",
    "\n",
    "        results['layer'].append(layer)\n",
    "        results['neuron'].append(neuron)\n",
    "        results['score'].append(score)\n",
    "        results['explanation'].append(explanation)\n",
    "    result_df = pd.DataFrame(results)\n",
    "    result_df.to_csv('saved_neurons.csv', index=False)"
   ]
  },
  {
   "cell_type": "code",
   "execution_count": null,
   "id": "e189a8fe-0729-4bc0-950c-0faa9e31a317",
   "metadata": {},
   "outputs": [],
   "source": []
  }
 ],
 "metadata": {
  "kernelspec": {
   "display_name": "Python 3 (ipykernel)",
   "language": "python",
   "name": "python3"
  },
  "language_info": {
   "codemirror_mode": {
    "name": "ipython",
    "version": 3
   },
   "file_extension": ".py",
   "mimetype": "text/x-python",
   "name": "python",
   "nbconvert_exporter": "python",
   "pygments_lexer": "ipython3",
   "version": "3.11.4"
  }
 },
 "nbformat": 4,
 "nbformat_minor": 5
}
