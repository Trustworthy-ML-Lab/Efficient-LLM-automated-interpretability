{
 "cells": [
  {
   "cell_type": "code",
   "execution_count": null,
   "metadata": {},
   "outputs": [],
   "source": [
    "%load_ext autoreload\n",
    "%autoreload 2"
   ]
  },
  {
   "cell_type": "code",
   "execution_count": null,
   "metadata": {},
   "outputs": [],
   "source": [
    "import os\n",
    "\n",
    "os.environ[\"OPENAI_API_KEY\"] = \"put-key-here\"\n",
    "\n",
    "from neuron_explainer.activations.activations import ActivationRecordSliceParams, load_neuron\n",
    "from neuron_explainer.activations.token_connections import load_token_lookup_table_connections_of_neuron\n",
    "from neuron_explainer.explanations.calibrated_simulator import UncalibratedNeuronSimulator\n",
    "from neuron_explainer.explanations.explainer import TokenSpaceRepresentationExplainer\n",
    "from neuron_explainer.explanations.prompt_builder import PromptFormat\n",
    "from neuron_explainer.explanations.scoring import simulate_and_score\n",
    "from neuron_explainer.explanations.simulator import ExplanationNeuronSimulator\n",
    "\n",
    "EXPLAINER_MODEL_NAME = \"gpt-4\"\n",
    "SIMULATOR_MODEL_NAME = \"text-davinci-003\"\n",
    "\n",
    "\n",
    "# test_response = await client.make_request(prompt=\"test 123<|endofprompt|>\", max_tokens=2)\n",
    "# print(\"Response:\", test_response[\"choices\"][0][\"text\"])\n",
    "\n",
    "layer_index = 9\n",
    "neuron_index = 6236\n",
    "\n",
    "# Load a token lookup table.\n",
    "token_lookup_table = load_token_lookup_table_connections_of_neuron(layer_index, neuron_index)\n",
    "\n",
    "# Load a neuron record.\n",
    "neuron_record = load_neuron(layer_index, neuron_index)\n",
    "\n",
    "# Grab the activation records we'll need.\n",
    "slice_params = ActivationRecordSliceParams(n_examples_per_split=5)\n",
    "valid_activation_records = neuron_record.valid_activation_records(\n",
    "    activation_record_slice_params=slice_params\n",
    ")\n",
    "\n",
    "# Generate an explanation for the neuron.\n",
    "explainer = TokenSpaceRepresentationExplainer(\n",
    "    model_name=EXPLAINER_MODEL_NAME,\n",
    "    prompt_format=PromptFormat.HARMONY_V4,\n",
    "    max_concurrent=1,\n",
    ")\n",
    "explanations = await explainer.generate_explanations(\n",
    "    tokens=token_lookup_table.tokens,\n",
    "    num_samples=1,\n",
    ")\n",
    "assert len(explanations) == 1\n",
    "explanation = explanations[0]\n",
    "print(f\"{explanation=}\")\n",
    "\n",
    "# Simulate and score the explanation.\n",
    "simulator = UncalibratedNeuronSimulator(\n",
    "    ExplanationNeuronSimulator(\n",
    "        SIMULATOR_MODEL_NAME,\n",
    "        explanation,\n",
    "        max_concurrent=1,\n",
    "        prompt_format=PromptFormat.INSTRUCTION_FOLLOWING,\n",
    "    )\n",
    ")\n",
    "scored_simulation = await simulate_and_score(simulator, valid_activation_records)\n",
    "print(f\"score={scored_simulation.get_preferred_score():.2f}\")\n"
   ]
  }
 ],
 "metadata": {
  "kernelspec": {
   "display_name": "Python 3",
   "language": "python",
   "name": "python3"
  },
  "language_info": {
   "codemirror_mode": {
    "name": "ipython",
    "version": 3
   },
   "file_extension": ".py",
   "mimetype": "text/x-python",
   "name": "python",
   "nbconvert_exporter": "python",
   "pygments_lexer": "ipython3",
   "version": "3.9.8"
  },
  "vscode": {
   "interpreter": {
    "hash": "fd71fb58b1ad02dde67c8ac595a52586dd87d3465221a699fc288aa2c48d5565"
   }
  }
 },
 "nbformat": 4,
 "nbformat_minor": 2
}
