{
 "cells": [
  {
   "cell_type": "code",
   "execution_count": 1,
   "metadata": {},
   "outputs": [],
   "source": [
    "%load_ext autoreload\n",
    "%autoreload 2"
   ]
  },
  {
   "cell_type": "code",
   "execution_count": 2,
   "metadata": {},
   "outputs": [
    {
     "name": "stdout",
     "output_type": "stream",
     "text": [
      "Cutoff:0.515\n",
      "\n"
     ]
    }
   ],
   "source": [
    "import os\n",
    "\n",
    "os.environ[\"OPENAI_API_KEY\"] = open(os.path.join(os.path.expanduser(\"~\"), \".openai_api_key\"), \"r\").read()[:-1]\n",
    "\n",
    "from neuron_explainer.activations.activation_records import calculate_max_activation\n",
    "from neuron_explainer.activations.activations import ActivationRecordSliceParams, load_neuron\n",
    "from neuron_explainer.explanations.calibrated_simulator import UncalibratedNeuronSimulator\n",
    "from neuron_explainer.explanations.explainer import TokenActivationPairExplainer, SummaryExplainer, HighlightExplainer, HighlightSummaryExplainer\n",
    "from neuron_explainer.explanations.prompt_builder import PromptFormat\n",
    "\n",
    "EXPLAINER_MODEL_NAME = \"gpt-3.5-turbo\"\n",
    "SIMULATOR_MODEL_NAME = \"text-davinci-003\"\n",
    "\n",
    "neuron_record = load_neuron(19, 1377)\n",
    "\n",
    "cutoff = neuron_record.quantile_boundaries[2]\n",
    "print(\"Cutoff:{:.3f}\\n\".format(cutoff))\n",
    "# Grab the activation records we'll need.\n",
    "slice_params = ActivationRecordSliceParams(n_examples_per_split=5)\n",
    "train_activation_records = neuron_record.train_activation_records(\n",
    "    activation_record_slice_params=slice_params\n",
    ")\n",
    "#uses a train\n",
    "\n",
    "valid_activation_records = neuron_record.valid_activation_records(\n",
    "    activation_record_slice_params=slice_params\n",
    ")\n",
    "\n",
    "all_explanations = dict()\n",
    "\n",
    "### Original\n",
    "explainer = TokenActivationPairExplainer(\n",
    "    model_name=EXPLAINER_MODEL_NAME,\n",
    "    prompt_format=PromptFormat.HARMONY_V4,\n",
    "    max_concurrent=1,\n",
    ")\n",
    "explanations = await explainer.generate_explanations(\n",
    "    all_activation_records=train_activation_records,\n",
    "    max_activation=calculate_max_activation(train_activation_records),\n",
    "    num_samples=1,\n",
    ")\n",
    "assert len(explanations) == 1\n",
    "all_explanations[\"Original\"] = explanations[0]\n",
    "\n",
    "\n",
    "explainers = dict()\n",
    "\n",
    "explainers[\"Summary\"] = SummaryExplainer(\n",
    "    model_name=EXPLAINER_MODEL_NAME,\n",
    "    prompt_format=PromptFormat.HARMONY_V4,\n",
    "    max_concurrent=1,\n",
    ")\n",
    "explainers[\"Highlight\"] = HighlightExplainer(\n",
    "    model_name=EXPLAINER_MODEL_NAME,\n",
    "    prompt_format=PromptFormat.HARMONY_V4,\n",
    "    max_concurrent=1,\n",
    ")\n",
    "explainers[\"HighlightSummary\"] = HighlightSummaryExplainer(\n",
    "    model_name=EXPLAINER_MODEL_NAME,\n",
    "    prompt_format=PromptFormat.HARMONY_V4,\n",
    "    max_concurrent=1,\n",
    ")\n",
    "\n",
    "for key in explainers:\n",
    "    explanations = await explainers[key].generate_explanations(\n",
    "        all_activation_records=train_activation_records,\n",
    "        cutoff=cutoff,\n",
    "        num_samples=1,\n",
    "    )\n",
    "    assert len(explanations) == 1\n",
    "    all_explanations[key] = explanations[0]"
   ]
  },
  {
   "cell_type": "code",
   "execution_count": 3,
   "metadata": {},
   "outputs": [
    {
     "name": "stdout",
     "output_type": "stream",
     "text": [
      "Mode:Original - explanation: \n",
      "metaphorical language related to mixing, blending, or joining two things or concepts.\n",
      "\n",
      "Mode:Summary - explanation: \n",
      "examples of comparisons or analogies using words such as \"like\" or \"as\".\n",
      "\n",
      "Mode:Highlight - explanation: \n",
      "comparisons using similes.\n",
      "\n",
      "Mode:HighlightSummary - explanation: \n",
      "phrases that use comparisons or analogies, often using the word \"like\".\n",
      "\n"
     ]
    }
   ],
   "source": [
    "for key in all_explanations:\n",
    "    print(\"Mode:{} - explanation: \\n{}\\n\".format(key,all_explanations[key]))"
   ]
  },
  {
   "cell_type": "code",
   "execution_count": null,
   "metadata": {},
   "outputs": [],
   "source": []
  }
 ],
 "metadata": {
  "kernelspec": {
   "display_name": "Python 3 (ipykernel)",
   "language": "python",
   "name": "python3"
  },
  "language_info": {
   "codemirror_mode": {
    "name": "ipython",
    "version": 3
   },
   "file_extension": ".py",
   "mimetype": "text/x-python",
   "name": "python",
   "nbconvert_exporter": "python",
   "pygments_lexer": "ipython3",
   "version": "3.11.4"
  }
 },
 "nbformat": 4,
 "nbformat_minor": 4
}
